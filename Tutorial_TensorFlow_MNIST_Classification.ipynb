{
 "cells": [
  {
   "cell_type": "markdown",
   "id": "8acf4bbb",
   "metadata": {},
   "source": [
    "# Tutorial: Pengenalan TensorFlow untuk Klasifikasi MNIST\n",
    "Notebook ini merupakan tutorial dasar untuk mengenal TensorFlow dan membangun model neural network sederhana untuk klasifikasi gambar menggunakan dataset MNIST.\n",
    "## Langkah-langkah:\n",
    "1. Persiapan Lingkungan\n",
    "2. Persiapan Dataset\n",
    "3. Membangun Model\n",
    "4. Melatih Model\n",
    "5. Evaluasi Model\n",
    "6. Prediksi Data Baru"
   ]
  },
  {
   "cell_type": "code",
   "execution_count": null,
   "id": "eef937bd",
   "metadata": {},
   "outputs": [],
   "source": [
    "!pip install tensorflow matplotlib"
   ]
  },
  {
   "cell_type": "markdown",
   "id": "7f0add13",
   "metadata": {},
   "source": [
    "## 1. Persiapan Lingkungan\n",
    "Import pustaka yang diperlukan untuk menjalankan model."
   ]
  },
  {
   "cell_type": "code",
   "execution_count": null,
   "id": "81d47446",
   "metadata": {},
   "outputs": [],
   "source": [
    "import tensorflow as tf\n",
    "from tensorflow.keras.datasets import mnist\n",
    "from tensorflow.keras.models import Sequential\n",
    "from tensorflow.keras.layers import Dense, Flatten\n",
    "import matplotlib.pyplot as plt\n",
    "import numpy as np\n"
   ]
  },
  {
   "cell_type": "markdown",
   "id": "474226b1",
   "metadata": {},
   "source": [
    "## 2. Persiapan Dataset\n",
    "Kita akan menggunakan dataset MNIST yang terdiri dari gambar angka 0-9 yang sudah dibagi menjadi data latih dan uji."
   ]
  },
  {
   "cell_type": "code",
   "execution_count": null,
   "id": "55c105ac",
   "metadata": {},
   "outputs": [],
   "source": [
    "(x_train, y_train), (x_test, y_test) = mnist.load_data()\n",
    "\n",
    "# Normalisasi data untuk mempercepat pelatihan\n",
    "x_train, x_test = x_train / 255.0, x_test / 255.0\n",
    "\n",
    "# Visualisasi beberapa gambar dalam dataset\n",
    "plt.figure(figsize=(10, 4))\n",
    "for i in range(6):\n",
    "    plt.subplot(1, 6, i+1)\n",
    "    plt.imshow(x_train[i], cmap='gray')\n",
    "    plt.axis('off')\n",
    "plt.suptitle('Contoh Gambar MNIST')\n",
    "plt.show()"
   ]
  },
  {
   "cell_type": "markdown",
   "id": "4204ab97",
   "metadata": {},
   "source": [
    "## 3. Membangun Model\n",
    "Membangun neural network sederhana dengan layer dense menggunakan API Keras dari TensorFlow."
   ]
  },
  {
   "cell_type": "code",
   "execution_count": null,
   "id": "4c3dabaa",
   "metadata": {},
   "outputs": [],
   "source": [
    "model = Sequential([\n",
    "    Flatten(input_shape=(28, 28)),\n",
    "    Dense(128, activation='relu'),\n",
    "    Dense(10, activation='softmax')\n",
    "])\n",
    "\n",
    "# Kompilasi model dengan optimizer, loss function, dan metrik\n",
    "model.compile(optimizer='adam',\n",
    "              loss='sparse_categorical_crossentropy',\n",
    "              metrics=['accuracy'])\n",
    "\n",
    "model.summary()"
   ]
  },
  {
   "cell_type": "markdown",
   "id": "37b46a76",
   "metadata": {},
   "source": [
    "## 4. Melatih Model\n",
    "Melatih model menggunakan data latih yang telah dipersiapkan."
   ]
  },
  {
   "cell_type": "code",
   "execution_count": null,
   "id": "3287a872",
   "metadata": {},
   "outputs": [],
   "source": [
    "history = model.fit(x_train, y_train, epochs=5, batch_size=32, validation_split=0.1)"
   ]
  },
  {
   "cell_type": "markdown",
   "id": "99aabe7d",
   "metadata": {},
   "source": [
    "## 5. Evaluasi Model\n",
    "Evaluasi model menggunakan data uji untuk melihat akurasi yang dicapai model."
   ]
  },
  {
   "cell_type": "code",
   "execution_count": null,
   "id": "95406f57",
   "metadata": {},
   "outputs": [],
   "source": [
    "# Evaluasi model pada data uji\n",
    "test_loss, test_accuracy = model.evaluate(x_test, y_test)\n",
    "print(f\"Test Loss: {test_loss:.4f}\")\n",
    "print(f\"Test Accuracy: {test_accuracy:.4f}\")\n",
    "\n",
    "# Visualisasi akurasi selama pelatihan\n",
    "plt.plot(history.history['accuracy'])\n",
    "plt.plot(history.history['val_accuracy'])\n",
    "plt.title('Model Accuracy')\n",
    "plt.xlabel('Epoch')\n",
    "plt.ylabel('Accuracy')\n",
    "plt.legend(['Train', 'Validation'], loc='upper left')\n",
    "plt.show()"
   ]
  },
  {
   "cell_type": "markdown",
   "id": "f857c093",
   "metadata": {},
   "source": [
    "## 6. Prediksi Data Baru\n",
    "Prediksi data baru menggunakan gambar dari data uji."
   ]
  },
  {
   "cell_type": "code",
   "execution_count": null,
   "id": "d14b8820",
   "metadata": {},
   "outputs": [],
   "source": [
    "# Prediksi menggunakan gambar dari data uji\n",
    "predictions = model.predict(x_test[:5])\n",
    "\n",
    "# Tampilkan hasil prediksi\n",
    "plt.figure(figsize=(10, 4))\n",
    "for i in range(5):\n",
    "    plt.subplot(1, 5, i+1)\n",
    "    plt.imshow(x_test[i], cmap='gray')\n",
    "    plt.title(f\"Pred: {np.argmax(predictions[i])}\")\n",
    "    plt.axis('off')\n",
    "plt.suptitle('Contoh Prediksi')\n",
    "plt.show()"
   ]
  }
 ],
 "metadata": {},
 "nbformat": 4,
 "nbformat_minor": 5
}
